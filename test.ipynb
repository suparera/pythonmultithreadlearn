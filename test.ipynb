{
 "cells": [
  {
   "metadata": {},
   "cell_type": "markdown",
   "source": "",
   "id": "f77f2d25e7802831"
  },
  {
   "cell_type": "code",
   "id": "initial_id",
   "metadata": {
    "collapsed": true,
    "ExecuteTime": {
     "end_time": "2024-10-16T10:54:21.018702Z",
     "start_time": "2024-10-16T10:54:20.762154Z"
    }
   },
   "source": [
    "from datetime import datetime\n",
    "\n",
    "start_datetime_text = '2024-09-16 09:57'\n",
    "# change to datetime\n",
    "start_datetime = datetime.strptime(start_datetime_text, '%Y-%m-%d %H:%M')\n",
    "\n",
    "# next 1 minute\n",
    "end_datetime = start_datetime.replace(minute=start_datetime.minute + 1)\n",
    "start_datetime, end_datetime\n",
    "\n",
    "# loop from start_datetime and increment by 1 minute\n",
    "for i in range(10):\n",
    "    print(start_datetime)\n",
    "    start_datetime = start_datetime.replace(minute=start_datetime.minute + 1)"
   ],
   "outputs": [
    {
     "name": "stdout",
     "output_type": "stream",
     "text": [
      "2024-09-16 09:57:00\n",
      "2024-09-16 09:58:00\n",
      "2024-09-16 09:59:00\n"
     ]
    },
    {
     "ename": "ValueError",
     "evalue": "minute must be in 0..59",
     "output_type": "error",
     "traceback": [
      "\u001B[1;31m---------------------------------------------------------------------------\u001B[0m",
      "\u001B[1;31mValueError\u001B[0m                                Traceback (most recent call last)",
      "Cell \u001B[1;32mIn[6], line 14\u001B[0m\n\u001B[0;32m     12\u001B[0m \u001B[38;5;28;01mfor\u001B[39;00m i \u001B[38;5;129;01min\u001B[39;00m \u001B[38;5;28mrange\u001B[39m(\u001B[38;5;241m10\u001B[39m):\n\u001B[0;32m     13\u001B[0m     \u001B[38;5;28mprint\u001B[39m(start_datetime)\n\u001B[1;32m---> 14\u001B[0m     start_datetime \u001B[38;5;241m=\u001B[39m \u001B[43mstart_datetime\u001B[49m\u001B[38;5;241;43m.\u001B[39;49m\u001B[43mreplace\u001B[49m\u001B[43m(\u001B[49m\u001B[43mminute\u001B[49m\u001B[38;5;241;43m=\u001B[39;49m\u001B[43mstart_datetime\u001B[49m\u001B[38;5;241;43m.\u001B[39;49m\u001B[43mminute\u001B[49m\u001B[43m \u001B[49m\u001B[38;5;241;43m+\u001B[39;49m\u001B[43m \u001B[49m\u001B[38;5;241;43m1\u001B[39;49m\u001B[43m)\u001B[49m\n",
      "\u001B[1;31mValueError\u001B[0m: minute must be in 0..59"
     ]
    }
   ],
   "execution_count": 6
  },
  {
   "metadata": {},
   "cell_type": "code",
   "outputs": [],
   "execution_count": null,
   "source": "",
   "id": "608b3742aba03d1f"
  }
 ],
 "metadata": {
  "kernelspec": {
   "display_name": "Python 3",
   "language": "python",
   "name": "python3"
  },
  "language_info": {
   "codemirror_mode": {
    "name": "ipython",
    "version": 2
   },
   "file_extension": ".py",
   "mimetype": "text/x-python",
   "name": "python",
   "nbconvert_exporter": "python",
   "pygments_lexer": "ipython2",
   "version": "2.7.6"
  }
 },
 "nbformat": 4,
 "nbformat_minor": 5
}
